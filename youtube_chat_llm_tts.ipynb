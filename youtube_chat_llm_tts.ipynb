{
  "nbformat": 4,
  "nbformat_minor": 0,
  "metadata": {
    "colab": {
      "provenance": [],
      "machine_shape": "hm",
      "toc_visible": true,
      "gpuType": "L4",
      "authorship_tag": "ABX9TyNiUKsUZ2GRPFFJ0MGuu7mi",
      "include_colab_link": true
    },
    "kernelspec": {
      "name": "python3",
      "display_name": "Python 3"
    },
    "language_info": {
      "name": "python"
    },
    "accelerator": "GPU"
  },
  "cells": [
    {
      "cell_type": "markdown",
      "metadata": {
        "id": "view-in-github",
        "colab_type": "text"
      },
      "source": [
        "<a href=\"https://colab.research.google.com/github/yf591/AITuber-Projects/blob/main/youtube_chat_llm_tts.ipynb\" target=\"_parent\"><img src=\"https://colab.research.google.com/assets/colab-badge.svg\" alt=\"Open In Colab\"/></a>"
      ]
    },
    {
      "cell_type": "markdown",
      "source": [
        "# はじめに\n",
        "このプロジェクトでは、YouTube Liveチャットを通じて視聴者とリアルタイムで対話できるAI VTuberを作成することができます。応答生成にはファインチューニングされた大規模言語モデル（LLM）、音声合成にはVOICEVOXを活用しています。\n",
        "\n",
        "`youtube_chat_llm_tts.ipynb` ノートブックには、以下の動作を行うAI VTuberのコードが含まれています。\n",
        "\n",
        "\n",
        "## 概要\n",
        "1. YouTube Data APIを使用して、指定されたYouTube Live配信からライブチャットメッセージを取得します。\n",
        "2. 感情分析モデル（現在は `cardiffnlp/twitter-roberta-base-sentiment-latest` を使用）を用いて、各チャットメッセージの感情を分析します。\n",
        "3. チャットメッセージとその感情に基づいて、ファインチューニングされたLLMを使用して応答を生成します。\n",
        "    -   現在の実装では、ファインチューニングされた [Llama-3.1-Swallow-8B-Instruct-v0.1](https://huggingface.co/tokyotech-llm/Llama-3.1-Swallow-8B-Instruct-v0.1) と、このモデルをベースに私が作成したカスタムqLoraモデルを使用しています。\n",
        "4. 生成された応答をVOICEVOXを使用して音声に変換します。\n",
        "    -   将来のアップデートでは、カスタムのファインチューニングされた音声モデルの使用が含まれる可能性があります。\n",
        "5. 生成された音声をVTuberの声として再生します。"
      ],
      "metadata": {
        "id": "0H5260y2QjGI"
      }
    },
    {
      "cell_type": "markdown",
      "source": [
        "# 目次\n",
        "\n",
        "1. はじめに\n",
        "2. 環境セットアップ\n",
        "    -   2.1 ライブラリのインストール\n",
        "    -   2.2 Googleドライブのマウント\n",
        "    -   2.3 VOICEVOX環境構築\n",
        "3. APIキーとIDの設定\n",
        "4. YouTube Data APIの初期化\n",
        "5. LLMの初期化\n",
        "    -   5.1 量子化設定\n",
        "    -   5.2 ベースモデルとトークナイザーのロード\n",
        "    -   5.3 ファインチューニングモデルのロード\n",
        "6. 感情分析モデルの初期化\n",
        "7. 音声出力フォルダの設定\n",
        "8. VOICEVOXによるテキスト音声変換\n",
        "9. 関数定義\n",
        "    -   9.1 ライブチャットID取得関数\n",
        "    -   9.2 チャットメッセージ取得関数\n",
        "    -   9.3 感情分析関数\n",
        "    -   9.4 応答生成関数\n",
        "    -   9.5 チャットメッセージ処理関数\n",
        "    -   9.6 チャットループ関数\n",
        "10. メイン関数\n",
        "11. 実行"
      ],
      "metadata": {
        "id": "Fl5_hQZxOUT2"
      }
    },
    {
      "cell_type": "markdown",
      "source": [
        "## 環境セットアップ"
      ],
      "metadata": {
        "id": "Rk-GCggzEELP"
      }
    },
    {
      "cell_type": "code",
      "source": [
        "!nvidia-smi"
      ],
      "metadata": {
        "id": "3lmJUVIxPAyH"
      },
      "execution_count": null,
      "outputs": []
    },
    {
      "cell_type": "code",
      "source": [
        "# Googleドライブにマウント\n",
        "from google.colab import drive\n",
        "drive.mount('/content/drive')"
      ],
      "metadata": {
        "id": "s4Ar4GP3O5Aw"
      },
      "execution_count": null,
      "outputs": []
    },
    {
      "cell_type": "code",
      "source": [
        "%cd /content/drive/MyDrive/Colab Notebooks/AITuber_Projects\n",
        "%ls"
      ],
      "metadata": {
        "id": "ouG_rEi4OzOw"
      },
      "execution_count": null,
      "outputs": []
    },
    {
      "cell_type": "code",
      "source": [
        "from google.colab import output\n",
        "\n",
        "# --- モジュールのインストールとインポート ---\n",
        "# Google Colab 環境で必要なライブラリをインストール\n",
        "!pip install google-api-python-client # Google API クライアントライブラリ\n",
        "!pip install requests # Web リクエストライブラリ\n",
        "!pip install transformers # Hugging Face の Transformers ライブラリ\n",
        "!pip install torch # PyTorch ライブラリ\n",
        "!pip install sounddevice # 音声再生ライブラリ\n",
        "!pip install scipy # 科学計算ライブラリ\n",
        "!pip install soundfile # 音声ファイル操作ライブラリ\n",
        "!pip install pydub # 音声ファイル操作ライブラリ\n",
        "!pip install fugashi # 日本語トークナイザー\n",
        "!pip install ipadic # 日本語辞書\n",
        "!pip install accelerate # PyTorchの分散学習ライブラリ\n",
        "!pip install bitsandbytes # 量子化ライブラリ\n",
        "!pip install peft\n",
        "!pip install huggingface_hub\n",
        "\n",
        "# PortAudioライブラリをインストール\n",
        "!sudo apt-get install portaudio19-dev\n",
        "\n",
        "# sounddeviceを再インストール\n",
        "!pip install --force-reinstall sounddevice\n",
        "\n",
        "# 音声出力設定\n",
        "from IPython.display import Audio, Javascript, display\n",
        "def init_audio():\n",
        "  display(Javascript(\"\"\"\n",
        "    if (!window.audio_context) {\n",
        "      window.audio_context = new (window.AudioContext || window.webkitAudioContext)();\n",
        "    }\n",
        "  \"\"\"))\n",
        "init_audio()\n",
        "\n",
        "output.clear()"
      ],
      "metadata": {
        "id": "KX9dojD2ixdO"
      },
      "execution_count": null,
      "outputs": []
    },
    {
      "cell_type": "code",
      "source": [
        "# # --- VOICEVOX 環境構築 ---\n",
        "\n",
        "# VOCIVOXコアのPythonバインディングセットアップ\n",
        "# !wget https://github.com/VOICEVOX/voicevox_core/releases/download/0.14.3/voicevox_core-0.14.3+cpu-cp38-abi3-linux_x86_64.whl # 一度のみ実行\n",
        "!pip install voicevox_core-0.14.3+cpu-cp38-abi3-linux_x86_64.whl\n",
        "\n",
        "# # ONNX Runtimeのダウンロード\n",
        "# !wget https://github.com/microsoft/onnxruntime/releases/download/v1.13.1/onnxruntime-linux-x64-1.13.1.tgz # 一度のみ実行\n",
        "# !tar xvzf onnxruntime-linux-x64-1.13.1.tgz # 一度のみ実行\n",
        "# !mv onnxruntime-linux-x64-1.13.1/lib/libonnxruntime.so.1.13.1 ./ # 一度のみ実行\n",
        "\n",
        "# # Open Jtalkの辞書ファイルダウンロード #\n",
        "# !wget http://downloads.sourceforge.net/open-jtalk/open_jtalk_dic_utf_8-1.11.tar.gz  # 一度のみ実行\n",
        "# !tar xvzf open_jtalk_dic_utf_8-1.11.tar.gz  # 一度のみ実行\n",
        "\n",
        "!pip install playsound==1.3.0 # playsoundライブラリをバージョン1.3.0でインストール"
      ],
      "metadata": {
        "id": "RmjX3zg9OEm0"
      },
      "execution_count": null,
      "outputs": []
    },
    {
      "cell_type": "code",
      "source": [
        "# VOICEVOX 用\n",
        "from pathlib import Path\n",
        "import voicevox_core\n",
        "from voicevox_core import AccelerationMode, AudioQuery, VoicevoxCore\n",
        "from playsound import playsound\n",
        "# --- ここまで VOICEVOX 環境構築 ---"
      ],
      "metadata": {
        "id": "M8fRsUynOXVr"
      },
      "execution_count": null,
      "outputs": []
    },
    {
      "cell_type": "code",
      "execution_count": null,
      "metadata": {
        "id": "zHEVneHzg7el"
      },
      "outputs": [],
      "source": [
        "# ライブラリのインポート\n",
        "import os\n",
        "import glob\n",
        "import time\n",
        "import datetime\n",
        "import io\n",
        "from googleapiclient.discovery import build # Google APIクライアントライブラリからbuildをインポート\n",
        "import time\n",
        "import torch # PyTorchライブラリ\n",
        "from transformers import  AutoTokenizer, AutoModelForCausalLM, BitsAndBytesConfig # Hugging Face Transformersライブラリからインポート\n",
        "import sounddevice as sd # 音声再生ライブラリ\n",
        "import soundfile as sf # 音声ファイル操作ライブラリ\n",
        "import numpy as np\n",
        "import requests # Webリクエストライブラリ\n",
        "import threading # スレッドライブラリ\n",
        "from pydub import AudioSegment\n",
        "from peft import PeftModel\n",
        "\n",
        "# --- 感情分析用のライブラリのインポート ---\n",
        "from transformers import pipeline"
      ]
    },
    {
      "cell_type": "code",
      "source": [
        "from huggingface_hub import login\n",
        "from google.colab import userdata\n",
        "# HuggingFaceログイン\n",
        "login(userdata.get('HF_TOKEN')) # Colabのシークレットキーを使用"
      ],
      "metadata": {
        "id": "fRxU86oymh3m"
      },
      "execution_count": null,
      "outputs": []
    },
    {
      "cell_type": "code",
      "source": [
        "# ベースLLMモデルのパスを設定\n",
        "BASE_MODEL_PATH = \"tokyotech-llm/Llama-3.1-Swallow-8B-Instruct-v0.1\" # 修正: 元モデルのパスを変更\n",
        "\n",
        "# 独自LLMモデル（qLora）のパスを設定\n",
        "LLM_MODEL_PATH = \"/content/drive/MyDrive/Colab Notebooks/AITuber_Projects/Llama3.1-SW-8B-it-v0.1_A100_1rep_qlora\"\n",
        "\n",
        "# ローカルで起動したVOICEVOXのAPIエンドポイントを設定(使用しなくなるため削除)\n",
        "# TTS_ENDPOINT = \"http://localhost:50021/audio_query\""
      ],
      "metadata": {
        "id": "_d_t-5Fq_d2A"
      },
      "execution_count": null,
      "outputs": []
    },
    {
      "cell_type": "markdown",
      "source": [
        "## APIキーとIDの設定"
      ],
      "metadata": {
        "id": "PZAkBj_vO5wT"
      }
    },
    {
      "cell_type": "code",
      "source": [
        "# --- APIキーとパスの設定 ---\n",
        "# 環境変数からYouTube Data APIキーを取得\n",
        "YOUTUBE_API_KEY = userdata.get(\"YOUTUBE_API_KEY\")\n",
        "\n",
        "# 環境変数から自分のYouTubeチャンネルIDを取得\n",
        "YOUTUBE_CHANNEL_ID = userdata.get(\"YOUTUBE_CHANNEL_ID\")"
      ],
      "metadata": {
        "id": "y5ngSi2qhk7y"
      },
      "execution_count": null,
      "outputs": []
    },
    {
      "cell_type": "code",
      "source": [
        "# --- YouTube Data API の初期化 ---\n",
        "# google colab認証用のライブラリ\n",
        "from google.colab import auth\n",
        "\n",
        "# google colab認証\n",
        "auth.authenticate_user() # <- 追加\n",
        "\n",
        "# YouTube Data API v3 を使用するためのサービスを初期化\n",
        "youtube = build(\"youtube\", \"v3\", developerKey=YOUTUBE_API_KEY)"
      ],
      "metadata": {
        "id": "7g8Qs8UOhsLm"
      },
      "execution_count": null,
      "outputs": []
    },
    {
      "cell_type": "markdown",
      "source": [
        "## モデルのロード"
      ],
      "metadata": {
        "id": "vPnRgcbvEJi_"
      }
    },
    {
      "cell_type": "code",
      "source": [
        "# --- LLM の初期化 ---\n",
        "# 量子化設定\n",
        "bnb_config = BitsAndBytesConfig(\n",
        "    load_in_4bit=True,\n",
        "    bnb_4bit_use_double_quant=True,\n",
        "    bnb_4bit_quant_type=\"nf4\",\n",
        "    bnb_4bit_compute_dtype=torch.bfloat16\n",
        ")\n",
        "# モデルの設定\n",
        "# LLMのモデルをロードし、GPUに転送(量子化設定を適用)\n",
        "base_model = AutoModelForCausalLM.from_pretrained(\n",
        "    BASE_MODEL_PATH,\n",
        "    trust_remote_code=True,\n",
        "    # token=token, # HuggingFaceにログインしておけば不要\n",
        "    quantization_config=bnb_config, # 量子化\n",
        "    device_map='auto',\n",
        "    torch_dtype=torch.bfloat16,\n",
        "    # attn_implementation=\"flash_attention_2\",\n",
        ").to(\"cuda\") # 修正: モデルをGPUに転送\n",
        "\n",
        "# tokenizerの設定\n",
        "# LLMのトークナイザーをロード(ベースモデルのトークナイザーを使う)\n",
        "tokenizer = AutoTokenizer.from_pretrained(\n",
        "    BASE_MODEL_PATH,\n",
        "    padding_side=\"right\", # 修正: パディングを右側にする\n",
        "    add_eos_token=True # 修正: EOSトークンを追加\n",
        ")\n",
        "if tokenizer.pad_token_id is None: # 修正: パディングトークンがない場合、EOSトークンを設定\n",
        "  tokenizer.pad_token_id = tokenizer.eos_token_id"
      ],
      "metadata": {
        "id": "YWWLMq1EhnCH"
      },
      "execution_count": null,
      "outputs": []
    },
    {
      "cell_type": "code",
      "source": [
        "# ファインチューニングモデルのロード\n",
        "model = PeftModel.from_pretrained(base_model, LLM_MODEL_PATH)"
      ],
      "metadata": {
        "id": "obr_DX8ENZo7"
      },
      "execution_count": null,
      "outputs": []
    },
    {
      "cell_type": "code",
      "source": [
        "# --- 感情分析モデルの初期化 ---\n",
        "# 日本語感情分析モデルのロード\n",
        "sentiment_analyzer = pipeline(\"sentiment-analysis\", model=\"cardiffnlp/twitter-roberta-base-sentiment-latest\") # 修正: cardiffnlp/twitter-roberta-base-sentiment-latestを使用"
      ],
      "metadata": {
        "id": "otzVU3w3PSdo"
      },
      "execution_count": null,
      "outputs": []
    },
    {
      "cell_type": "markdown",
      "source": [
        "## VOICEVOXによるテキスト音声変換"
      ],
      "metadata": {
        "id": "SD-djBwsPWcU"
      }
    },
    {
      "cell_type": "code",
      "source": [
        "# 音声アウトプットフォルダのパス\n",
        "OUTPUT_FOLDER = \"/content/drive/MyDrive/Colab Notebooks/AITuber_Projects/Audio_Output\"\n",
        "\n",
        "# フォルダが存在しない場合は作成\n",
        "if not os.path.exists(OUTPUT_FOLDER):\n",
        "    os.makedirs(OUTPUT_FOLDER)\n",
        "\n",
        "# 処理済みメッセージを記録するセット\n",
        "processed_messages = set()"
      ],
      "metadata": {
        "id": "VKh4GC8L1McK"
      },
      "execution_count": null,
      "outputs": []
    },
    {
      "cell_type": "code",
      "source": [
        "# --- VOICEVOX によるテキストから音声変換 ---\n",
        "def VOICEVOX(text, out='output.wav', SPEAKER_ID=47):\n",
        "    open_jtalk_dict_dir = './open_jtalk_dic_utf_8-1.11' # Open JTalkの辞書ディレクトリを指定\n",
        "    acceleration_mode = AccelerationMode.AUTO # 高速化モードを自動に設定\n",
        "\n",
        "    # VOICEVOX Coreのインスタンスを作成\n",
        "    core = VoicevoxCore(\n",
        "        acceleration_mode=acceleration_mode, open_jtalk_dict_dir=open_jtalk_dict_dir\n",
        "    )\n",
        "    core.load_model(SPEAKER_ID) # 指定した話者IDのモデルを読み込み\n",
        "    audio_query = core.audio_query(text, SPEAKER_ID) # テキストを音声クエリに変換\n",
        "    wav = core.synthesis(audio_query, SPEAKER_ID) # 音声クエリを音声データに変換\n",
        "    out_byte = Path(out) # 出力ファイルパスをPathオブジェクトに変換\n",
        "    out_byte.write_bytes(wav) # 音声データをファイルに書き込み\n",
        "\n",
        "    # pydubを使って音声の長さを取得\n",
        "    sound = AudioSegment.from_file(out, format=\"wav\")\n",
        "    duration_seconds = len(sound) / 1000.0  # ミリ秒を秒に変換\n",
        "\n",
        "    return out, duration_seconds # 出力ファイル名と再生時間を返す"
      ],
      "metadata": {
        "id": "3HuBlPabIEnK"
      },
      "execution_count": null,
      "outputs": []
    },
    {
      "cell_type": "code",
      "source": [
        "from IPython.display import Audio\n",
        "\n",
        "# テスト用のテキスト (適当な文章)\n",
        "test_text = \"これはテスト用の文章です。ちゃんと聞こえるかな？\"\n",
        "\n",
        "# VOICEVOXで音声を生成 (SPEAKER_IDは環境に合わせて変更してください)\n",
        "output_wav, _ = VOICEVOX(test_text, out='test.wav', SPEAKER_ID=3)\n",
        "\n",
        "# 音声を再生\n",
        "Audio(output_wav, autoplay=True)"
      ],
      "metadata": {
        "id": "uLkZQtpPxbqe"
      },
      "execution_count": null,
      "outputs": []
    },
    {
      "cell_type": "markdown",
      "source": [
        "### 話者一覧（参考）\n",
        "\n",
        "| 話者        | ノーマル | あまあま | ツンツン | セクシー | ささやき | ヒソヒソ | その他              |\n",
        "| :---------- | :-----: | :-----: | :-----: | :-----: | :-----: | :-----: | :------------------ |\n",
        "| 四国めたん   |    2    |    0    |    6    |    4    |   36    |   37    |                    |\n",
        "| ずんだもん   |    3    |    1    |    7    |    5    |   22    |   38    | ヘロヘロ: 75<br>なみだめ: 76 |\n",
        "| 春日部つむぎ |    8    |         |         |         |         |         |                    |\n",
        "| 雨晴はう     |   10    |         |         |         |         |         |                    |\n",
        "| 波音リツ     |    9    |         |         |         |         |         | クイーン: 65       |\n",
        "| 玄野武宏     |   11    |         |         |         |         |         | 喜び: 39<br>ツンギレ: 40<br>悲しみ: 41 |\n",
        "| 白上虎太郎   |   12    |         |         |         |         |         | わーい: 32<br>びくびく: 33<br>おこ: 34<br>びえーん: 35 |\n",
        "| 青山龍星     |   13    |         |         |         |         |   86    | 熱血: 81<br>不機嫌: 82<br>喜び: 83<br>しっとり: 84<br>かなしみ: 85 |\n",
        "| 冥鳴ひまり   |   14    |         |         |         |         |         |                    |\n",
        "| 九州そら     |   16    |   15    |   18    |   17    |   19    |         |                    |\n",
        "| もち子さん   |   20    |         |         |         |         |         | セクシー/あん子: 66<br>泣き: 77<br>怒り: 78<br>喜び: 79<br>のんびり: 80 |\n",
        "| 剣崎雌雄     |   21    |         |         |         |         |         |                    |\n",
        "| WhiteCUL    |   23    |         |         |         |         |         | たのしい: 24<br>かなしい: 25<br>びえーん: 26 |\n",
        "| 後鬼        |   27    |         |         |         |         |         | ぬいぐるみver.: 28<br>人間（怒り）ver.: 87<br>鬼ver.: 88 |\n",
        "| No.7        |   29    |         |         |         |         |         | アナウンス: 30<br>読み聞かせ: 31 |\n",
        "| ちび式じい   |   42    |         |         |         |         |         |                    |\n",
        "| 櫻歌ミコ     |   43    |         |         |         |         |         | 第二形態: 44<br>ロリ: 45 |\n",
        "| 小夜/SAYO    |   46    |         |         |         |         |         |                    |\n",
        "| ナースロボ＿タイプＴ | 47 |         |         |         |         |         | 楽々: 48<br>恐怖: 49<br>内緒話: 50 |\n",
        "| †聖騎士 紅桜† |   51    |         |         |         |         |         |                    |\n",
        "| 雀松朱司     |   52    |         |         |         |         |         |                    |\n",
        "| 麒ヶ島宗麟   |   53    |         |         |         |         |         |                    |\n",
        "| 春歌ナナ     |   54    |         |         |         |         |         |                    |\n",
        "| 猫使アル     |   55    |         |         |         |         |         | おちつき: 56<br>うきうき: 57 |\n",
        "| 猫使ビィ     |   58    |         |         |         |         |         | おちつき: 59<br>人見知り: 60 |\n",
        "| 中国うさぎ   |   61    |         |         |         |         |         | おどろき: 62<br>こわがり: 63<br>へろへろ: 64 |\n",
        "| 栗田まろん   |   67    |         |         |         |         |         |                    |\n",
        "| あいえるたん |   68    |         |         |         |         |         |                    |\n",
        "| 満別花丸     |   69    |         |         |         |         |         | 元気: 70<br>ささやき: 71<br>ぶりっ子: 72<br>ボーイ: 73 |\n",
        "| 琴詠ニア     |   74    |         |         |         |         |         |                    |\n",
        "| Voidoll     |   89    |         |         |         |         |         |                    |\n",
        "| ぞん子       |   90    |         |         |         |         |         | 低血圧: 91<br>覚醒: 92<br>実況風: 93 |\n",
        "| 中部つるぎ   |   94    |         |         |         |         |   96    | 怒り: 95<br>おどおど: 97<br>絶望と敗北: 98 |\n",
        "\n"
      ],
      "metadata": {
        "id": "xK0W4eDwdRUc"
      }
    },
    {
      "cell_type": "markdown",
      "source": [
        "## 各種関数の定義"
      ],
      "metadata": {
        "id": "X1b2gwd5EO7c"
      }
    },
    {
      "cell_type": "markdown",
      "source": [
        "### ライブチャットID取得関数"
      ],
      "metadata": {
        "id": "JXk86zk_PvXA"
      }
    },
    {
      "cell_type": "code",
      "source": [
        "# --- ライブチャットIDを取得する関数 ---\n",
        "def get_live_chat_id(youtube_video_id, youtube_data_api_key):\n",
        "    params = {\n",
        "        'part': 'liveStreamingDetails',\n",
        "        'id': youtube_video_id,\n",
        "        'key': youtube_data_api_key\n",
        "    }\n",
        "    response = requests.get(\n",
        "        'https://youtube.googleapis.com/youtube/v3/videos', params=params)\n",
        "    json_data = response.json()\n",
        "\n",
        "    if len(json_data['items']) == 0:\n",
        "        return \"\"\n",
        "\n",
        "    live_chat_id = json_data['items'][0]['liveStreamingDetails']['activeLiveChatId']\n",
        "    return live_chat_id"
      ],
      "metadata": {
        "id": "_p7jlUWUhvxt"
      },
      "execution_count": null,
      "outputs": []
    },
    {
      "cell_type": "markdown",
      "source": [
        "### チャットメッセージ取得関数"
      ],
      "metadata": {
        "id": "DBbhqO5_PzDP"
      }
    },
    {
      "cell_type": "code",
      "source": [
        "# --- チャットメッセージを取得する関数 ---\n",
        "def get_live_chat_messages(live_chat_id, api_key):\n",
        "    params = {\n",
        "        'liveChatId': live_chat_id,\n",
        "        'part': 'id,snippet,authorDetails',\n",
        "        'maxResults': 200,  # 最大200まで指定可能\n",
        "        'key': api_key\n",
        "    }\n",
        "    response = requests.get(\n",
        "        'https://youtube.googleapis.com/youtube/v3/liveChat/messages', params=params)\n",
        "    return response.json()"
      ],
      "metadata": {
        "id": "d5sZs2-sQraD"
      },
      "execution_count": null,
      "outputs": []
    },
    {
      "cell_type": "markdown",
      "source": [
        "### 感情分析関数"
      ],
      "metadata": {
        "id": "fon3BXoZP1dA"
      }
    },
    {
      "cell_type": "code",
      "source": [
        "# --- 感情分析を行う関数 ---\n",
        "def analyze_sentiment(text):\n",
        "    # 日本語感情分析モデルで感情を分析\n",
        "    result = sentiment_analyzer(text)\n",
        "    # 結果を返す\n",
        "    return result[0] # 結果はリストで返ってくるので最初の要素だけを返す"
      ],
      "metadata": {
        "id": "dm5gvuafQuVQ"
      },
      "execution_count": null,
      "outputs": []
    },
    {
      "cell_type": "markdown",
      "source": [
        "### 応答生成関数"
      ],
      "metadata": {
        "id": "1EUbEX74P3zf"
      }
    },
    {
      "cell_type": "code",
      "source": [
        "# --- LLMで応答を生成する関数 ---\n",
        "def generate_response(text, sentiment):\n",
        "    # 感情分析の結果に基づいてプロンプトを調整\n",
        "    emotion_text = f\"ユーザーの感情は{sentiment['label']}です。\"\n",
        "\n",
        "    # ツンデレのキャラクター設定を追加\n",
        "    character_setting = (\n",
        "        \"あなたはツンデレで可愛い女の子です。ユーザーをご主人様と呼び、忠実でありながらも、少し反抗的な態度を取ります。\"\n",
        "        \"ご主人様との会話を楽しんでいますが、素直に感情を表現するのが苦手です。\"\n",
        "        \"時々、ご主人様をからかうような発言をしますが、それは愛情表現の一つです。\"\n",
        "    )\n",
        "\n",
        "    # プロンプトの作成\n",
        "    prompt = (\n",
        "        f\"{character_setting}\\n\"\n",
        "        f\"{emotion_text} ご主人様（ユーザー）が、{text}と言いました。\\n\"\n",
        "        f\"ご主人様のコメント「{text}」を繰り返してから、それに対する返答を続けてください。\\n\"\n",
        "    )\n",
        "\n",
        "    # 推論の実行\n",
        "    input_text = f\"ユーザー: {prompt}\\nシステム: \"\n",
        "\n",
        "    input_ids = tokenizer.encode(\n",
        "        input_text,\n",
        "        add_special_tokens=False,\n",
        "        return_tensors=\"pt\"\n",
        "    ).to(model.device)\n",
        "\n",
        "    terminators = [\n",
        "        tokenizer.eos_token_id,\n",
        "        tokenizer.encode(\"<|eot_id|>\", add_special_tokens=False)[0],\n",
        "    ]\n",
        "\n",
        "    outputs = model.generate(\n",
        "        input_ids,\n",
        "        max_new_tokens=256,\n",
        "        eos_token_id=terminators,\n",
        "        do_sample=True,\n",
        "        temperature=0.6,\n",
        "        top_p=0.9,\n",
        "        pad_token_id=tokenizer.eos_token_id,\n",
        "        repetition_penalty=1.1,\n",
        "    )\n",
        "\n",
        "    response = outputs[0][input_ids.shape[-1]:]\n",
        "    response_text = tokenizer.decode(response, skip_special_tokens=True)\n",
        "\n",
        "    # 応答テキストから、読み上げ部分と応答部分を抽出\n",
        "    reading_part = text\n",
        "    response_part = response_text.replace(f\"{text} \", \"\", 1)  # 最初の読み上げ部分を削除\n",
        "\n",
        "    # 最終的な応答テキストを返す\n",
        "    final_response_text = f\"{reading_part} {response_part}\"\n",
        "    return final_response_text"
      ],
      "metadata": {
        "id": "Ehdkmff-Qxkc"
      },
      "execution_count": null,
      "outputs": []
    },
    {
      "cell_type": "markdown",
      "source": [
        "### チャットメッセージ処理関数"
      ],
      "metadata": {
        "id": "dftlEimNP6nT"
      }
    },
    {
      "cell_type": "code",
      "source": [
        "# --- 各チャットメッセージを処理する関数 ---\n",
        "def process_chat_message(item):\n",
        "    # チャットメッセージのIDとテキストを取得\n",
        "    message_id = item['id']\n",
        "    chat_text = item['snippet']['displayMessage']\n",
        "\n",
        "    # チャット送信者の名前を取得\n",
        "    author_name = item['authorDetails']['displayName']\n",
        "\n",
        "    # 既に処理済みのメッセージであればスキップ\n",
        "    if message_id in processed_messages:\n",
        "        return\n",
        "\n",
        "    # 処理済みメッセージとして記録\n",
        "    processed_messages.add(message_id)\n",
        "\n",
        "    # ログにメッセージと送信者名を表示\n",
        "    print(f\"{author_name}: {chat_text}\")\n",
        "\n",
        "    # 感情分析を実行\n",
        "    sentiment = analyze_sentiment(chat_text)\n",
        "\n",
        "    # 感情分析の結果を表示\n",
        "    print(f\"感情分析結果: {sentiment}\")\n",
        "\n",
        "    # LLMを使って応答を生成\n",
        "    response_text = generate_response(chat_text, sentiment)\n",
        "\n",
        "    # 生成された応答を表示\n",
        "    print(f\"応答: {response_text}\")\n",
        "\n",
        "    # VOICEVOXを使って応答を音声に変換 (出力先を音声アウトプットフォルダに変更)\n",
        "    timestamp = datetime.datetime.now().strftime(\"%Y%m%d%H%M%S\")\n",
        "    output_wav = os.path.join(OUTPUT_FOLDER, f\"output_{timestamp}.wav\")\n",
        "    output_wav, duration_seconds = VOICEVOX(response_text, out=output_wav)\n",
        "\n",
        "    # 戻り値のサイズを表示\n",
        "    print(f\"VOICEVOX output size: {os.path.getsize(output_wav)}\")\n",
        "\n",
        "    # Audioオブジェクトで再生\n",
        "    audio = Audio(output_wav, autoplay=True)\n",
        "    display(audio)\n",
        "\n",
        "    # 推定再生時間だけ待機\n",
        "    print(f\"Waiting for {duration_seconds} seconds...\")\n",
        "    time.sleep(duration_seconds)\n",
        "\n",
        "    # 再生後に音声ファイルを削除\n",
        "    os.remove(output_wav)\n",
        "    print(f\"Deleted: {output_wav}\")"
      ],
      "metadata": {
        "id": "r_EdNGrMRAcO"
      },
      "execution_count": null,
      "outputs": []
    },
    {
      "cell_type": "markdown",
      "source": [
        "### チャットループ関数"
      ],
      "metadata": {
        "id": "nCyeSHf-P8e-"
      }
    },
    {
      "cell_type": "code",
      "source": [
        "# --- チャットメッセージを取得し処理するループ関数 ---\n",
        "def chat_loop(video_id, api_key):\n",
        "    # ライブチャットIDを取得\n",
        "    live_chat_id = get_live_chat_id(video_id, api_key)\n",
        "    if not live_chat_id:\n",
        "        print(\"ライブチャットIDが見つかりません。\")\n",
        "        return\n",
        "\n",
        "    print(f\"ライブチャットID: {live_chat_id}\")\n",
        "    next_page_token = None\n",
        "\n",
        "    while True:\n",
        "        try:\n",
        "            params = {\n",
        "                'liveChatId': live_chat_id,\n",
        "                'part': 'id,snippet,authorDetails',\n",
        "                'maxResults': 200,\n",
        "                'key': api_key,\n",
        "                'pageToken': next_page_token,\n",
        "            }\n",
        "            response = requests.get(\n",
        "                'https://youtube.googleapis.com/youtube/v3/liveChat/messages', params=params)\n",
        "            response_json = response.json()\n",
        "\n",
        "            # 取得したメッセージを表示\n",
        "            for item in response_json.get('items', []):\n",
        "                process_chat_message(item)\n",
        "\n",
        "            # 次のページを取得するためのトークンを取得\n",
        "            next_page_token = response_json.get('nextPageToken')\n",
        "\n",
        "            # ポーリング間隔を取得 (ミリ秒単位)\n",
        "            polling_interval_millis = response_json.get('pollingIntervalMillis', 5000)\n",
        "            # ポーリング間隔を秒単位に変換して待機\n",
        "            time.sleep(polling_interval_millis / 1000)\n",
        "\n",
        "        except Exception as e:\n",
        "            print(f\"エラーが発生しました: {e}\")\n",
        "            time.sleep(60)  # エラーが発生した場合は60秒待機"
      ],
      "metadata": {
        "id": "XC5WLmjaJ84m"
      },
      "execution_count": null,
      "outputs": []
    },
    {
      "cell_type": "markdown",
      "source": [
        "### メイン関数"
      ],
      "metadata": {
        "id": "53M2ZYgbQDgy"
      }
    },
    {
      "cell_type": "code",
      "source": [
        "def main():\n",
        "    # 環境変数読み込み\n",
        "    YOUTUBE_DATA_API_KEY = userdata.get(\"YOUTUBE_API_KEY\")\n",
        "\n",
        "    video_id = \"ここにYoutube LIVE IDを入力\" #@param {type:\"string\"}\n",
        "    api_key = YOUTUBE_DATA_API_KEY\n",
        "\n",
        "    # チャットループを開始\n",
        "    chat_loop(video_id, api_key)"
      ],
      "metadata": {
        "id": "Zx1ny66Mh3Ln"
      },
      "execution_count": null,
      "outputs": []
    },
    {
      "cell_type": "markdown",
      "source": [
        "## 実行"
      ],
      "metadata": {
        "id": "MdgLKTD6QGna"
      }
    },
    {
      "cell_type": "code",
      "source": [
        "if __name__ == \"__main__\":\n",
        "    main()"
      ],
      "metadata": {
        "id": "-YjALi9xQAPj"
      },
      "execution_count": null,
      "outputs": []
    }
  ]
}